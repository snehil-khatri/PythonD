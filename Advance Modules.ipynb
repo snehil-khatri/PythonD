{
 "cells": [
  {
   "cell_type": "raw",
   "id": "ee0604ef-0ea8-4eb9-a5cc-555d5c7d20bd",
   "metadata": {},
   "source": [
    "Collection module\n",
    "Os modules \n",
    "Datetime module\n",
    "Math and random modules\n",
    "Debugger \n",
    "Regular expressions\n",
    "timing modules\n",
    "zip and unzip modules\n"
   ]
  },
  {
   "cell_type": "code",
   "execution_count": 1,
   "id": "53c40615-0c52-47bb-b49e-2e95a9f30a11",
   "metadata": {},
   "outputs": [],
   "source": [
    "from collections import Counter"
   ]
  },
  {
   "cell_type": "code",
   "execution_count": 2,
   "id": "e136993b-a407-424a-933d-ebf7fc694a7b",
   "metadata": {},
   "outputs": [],
   "source": [
    "lst=[1,1,1,1,1,1,1,12,2,2,2,2,3,4,4,5,6,6,78,99,0]"
   ]
  },
  {
   "cell_type": "code",
   "execution_count": 4,
   "id": "be2b1422-1380-402c-ac83-53609860aeb7",
   "metadata": {},
   "outputs": [
    {
     "data": {
      "text/plain": [
       "Counter({1: 7, 2: 4, 4: 2, 6: 2, 12: 1, 3: 1, 5: 1, 78: 1, 99: 1, 0: 1})"
      ]
     },
     "execution_count": 4,
     "metadata": {},
     "output_type": "execute_result"
    }
   ],
   "source": [
    "Counter(lst)"
   ]
  },
  {
   "cell_type": "code",
   "execution_count": 5,
   "id": "25e00929-6747-46de-ab8a-6c27b8df6e7d",
   "metadata": {},
   "outputs": [
    {
     "data": {
      "text/plain": [
       "Counter({'d': 6, 'a': 5, 'b': 5, 'c': 5, 's': 1})"
      ]
     },
     "execution_count": 5,
     "metadata": {},
     "output_type": "execute_result"
    }
   ],
   "source": [
    "Counter('abcddabcsdabcdabcdabcd')"
   ]
  },
  {
   "cell_type": "code",
   "execution_count": 6,
   "id": "5d74b97a-e409-49bc-b824-259698264ea1",
   "metadata": {},
   "outputs": [],
   "source": [
    "s = 'How many times does each word show up in this sentence word times each each word'\n",
    "words=s.split()"
   ]
  },
  {
   "cell_type": "code",
   "execution_count": 7,
   "id": "cce5bf5a-7d62-4c25-9895-ea493cd66a02",
   "metadata": {},
   "outputs": [
    {
     "data": {
      "text/plain": [
       "['How',\n",
       " 'many',\n",
       " 'times',\n",
       " 'does',\n",
       " 'each',\n",
       " 'word',\n",
       " 'show',\n",
       " 'up',\n",
       " 'in',\n",
       " 'this',\n",
       " 'sentence',\n",
       " 'word',\n",
       " 'times',\n",
       " 'each',\n",
       " 'each',\n",
       " 'word']"
      ]
     },
     "execution_count": 7,
     "metadata": {},
     "output_type": "execute_result"
    }
   ],
   "source": [
    "words\n"
   ]
  },
  {
   "cell_type": "code",
   "execution_count": 9,
   "id": "93e11852-02de-4dd5-883f-4d8a4af93d13",
   "metadata": {},
   "outputs": [
    {
     "data": {
      "text/plain": [
       "Counter({'each': 3,\n",
       "         'word': 3,\n",
       "         'times': 2,\n",
       "         'How': 1,\n",
       "         'many': 1,\n",
       "         'does': 1,\n",
       "         'show': 1,\n",
       "         'up': 1,\n",
       "         'in': 1,\n",
       "         'this': 1,\n",
       "         'sentence': 1})"
      ]
     },
     "execution_count": 9,
     "metadata": {},
     "output_type": "execute_result"
    }
   ],
   "source": [
    "Counter(words)"
   ]
  },
  {
   "cell_type": "code",
   "execution_count": 10,
   "id": "4de95c6a-49de-4475-9324-36e5aaa8a06f",
   "metadata": {},
   "outputs": [
    {
     "data": {
      "text/plain": [
       "[('each', 3), ('word', 3)]"
      ]
     },
     "execution_count": 10,
     "metadata": {},
     "output_type": "execute_result"
    }
   ],
   "source": [
    "c=Counter(words)\n",
    "c.most_common(2)"
   ]
  },
  {
   "cell_type": "code",
   "execution_count": 11,
   "id": "3641b005-1e94-4f63-81bf-dae22ddca7a7",
   "metadata": {},
   "outputs": [
    {
     "data": {
      "text/plain": [
       "('sentence', 1)"
      ]
     },
     "execution_count": 11,
     "metadata": {},
     "output_type": "execute_result"
    }
   ],
   "source": [
    "c.popitem()"
   ]
  },
  {
   "cell_type": "code",
   "execution_count": 12,
   "id": "e77c8a63-23cf-4c13-836b-3bf0615dda2b",
   "metadata": {},
   "outputs": [
    {
     "data": {
      "text/plain": [
       "('this', 1)"
      ]
     },
     "execution_count": 12,
     "metadata": {},
     "output_type": "execute_result"
    }
   ],
   "source": [
    "c.popitem()"
   ]
  },
  {
   "cell_type": "code",
   "execution_count": 13,
   "id": "d2213ec3-0c06-4919-83cc-2c0cc7906cbf",
   "metadata": {},
   "outputs": [
    {
     "data": {
      "text/plain": [
       "Counter({'each': 3,\n",
       "         'word': 3,\n",
       "         'times': 2,\n",
       "         'How': 1,\n",
       "         'many': 1,\n",
       "         'does': 1,\n",
       "         'show': 1,\n",
       "         'up': 1,\n",
       "         'in': 1})"
      ]
     },
     "execution_count": 13,
     "metadata": {},
     "output_type": "execute_result"
    }
   ],
   "source": [
    "c"
   ]
  },
  {
   "cell_type": "code",
   "execution_count": 14,
   "id": "405433a8-2043-46cf-825a-4fa670f3d423",
   "metadata": {},
   "outputs": [
    {
     "data": {
      "text/plain": [
       "dict_values([1, 1, 2, 1, 3, 3, 1, 1, 1])"
      ]
     },
     "execution_count": 14,
     "metadata": {},
     "output_type": "execute_result"
    }
   ],
   "source": [
    "c.values()"
   ]
  },
  {
   "cell_type": "code",
   "execution_count": 16,
   "id": "9a320ccd-b33d-48b1-aa38-e34be1a1cf0f",
   "metadata": {},
   "outputs": [
    {
     "data": {
      "text/plain": [
       "14"
      ]
     },
     "execution_count": 16,
     "metadata": {},
     "output_type": "execute_result"
    }
   ],
   "source": [
    "sum(c.values())"
   ]
  },
  {
   "cell_type": "code",
   "execution_count": 17,
   "id": "28282659-7f90-42d3-9904-d594802214db",
   "metadata": {},
   "outputs": [
    {
     "data": {
      "text/plain": [
       "['How', 'many', 'times', 'does', 'each', 'word', 'show', 'up', 'in']"
      ]
     },
     "execution_count": 17,
     "metadata": {},
     "output_type": "execute_result"
    }
   ],
   "source": [
    "list(c)"
   ]
  },
  {
   "cell_type": "code",
   "execution_count": 18,
   "id": "4c7aa026-94de-433a-8f9d-bc51bd96284f",
   "metadata": {},
   "outputs": [
    {
     "data": {
      "text/plain": [
       "{'How', 'does', 'each', 'in', 'many', 'show', 'times', 'up', 'word'}"
      ]
     },
     "execution_count": 18,
     "metadata": {},
     "output_type": "execute_result"
    }
   ],
   "source": [
    "set(c)"
   ]
  },
  {
   "cell_type": "code",
   "execution_count": 19,
   "id": "c22ac677-8591-4439-a08f-819b9edce57b",
   "metadata": {},
   "outputs": [
    {
     "data": {
      "text/plain": [
       "{'How': 1,\n",
       " 'many': 1,\n",
       " 'times': 2,\n",
       " 'does': 1,\n",
       " 'each': 3,\n",
       " 'word': 3,\n",
       " 'show': 1,\n",
       " 'up': 1,\n",
       " 'in': 1}"
      ]
     },
     "execution_count": 19,
     "metadata": {},
     "output_type": "execute_result"
    }
   ],
   "source": [
    "dict(c)"
   ]
  },
  {
   "cell_type": "code",
   "execution_count": 20,
   "id": "3f31cfec-50b5-4371-aadf-9f02cee19bdc",
   "metadata": {},
   "outputs": [
    {
     "data": {
      "text/plain": [
       "dict_items([('How', 1), ('many', 1), ('times', 2), ('does', 1), ('each', 3), ('word', 3), ('show', 1), ('up', 1), ('in', 1)])"
      ]
     },
     "execution_count": 20,
     "metadata": {},
     "output_type": "execute_result"
    }
   ],
   "source": [
    "c.items()"
   ]
  },
  {
   "cell_type": "code",
   "execution_count": 21,
   "id": "70f8925d-dc57-4905-b0ce-7ebb019639d5",
   "metadata": {},
   "outputs": [],
   "source": [
    "from collections import defaultdict"
   ]
  },
  {
   "cell_type": "code",
   "execution_count": 22,
   "id": "5b607deb-a90e-4726-bc7b-e17af39032d6",
   "metadata": {},
   "outputs": [],
   "source": [
    "d={}\n"
   ]
  },
  {
   "cell_type": "code",
   "execution_count": 23,
   "id": "c3942bd0-4a49-4aca-b4d7-0ffbefd47775",
   "metadata": {},
   "outputs": [
    {
     "ename": "KeyError",
     "evalue": "'one'",
     "output_type": "error",
     "traceback": [
      "\u001b[1;31m---------------------------------------------------------------------------\u001b[0m",
      "\u001b[1;31mKeyError\u001b[0m                                  Traceback (most recent call last)",
      "Cell \u001b[1;32mIn[23], line 1\u001b[0m\n\u001b[1;32m----> 1\u001b[0m d[\u001b[38;5;124m'\u001b[39m\u001b[38;5;124mone\u001b[39m\u001b[38;5;124m'\u001b[39m]\n",
      "\u001b[1;31mKeyError\u001b[0m: 'one'"
     ]
    }
   ],
   "source": [
    "d['one']"
   ]
  },
  {
   "cell_type": "code",
   "execution_count": 24,
   "id": "20effa7c-19e2-4a27-b2bb-a18cce2ba8c7",
   "metadata": {},
   "outputs": [],
   "source": [
    "d=defaultdict(object)"
   ]
  },
  {
   "cell_type": "code",
   "execution_count": 25,
   "id": "8bb63d82-8650-41ff-97ff-be29247ea6bb",
   "metadata": {},
   "outputs": [
    {
     "data": {
      "text/plain": [
       "<object at 0x23bede331e0>"
      ]
     },
     "execution_count": 25,
     "metadata": {},
     "output_type": "execute_result"
    }
   ],
   "source": [
    "d['one']"
   ]
  },
  {
   "cell_type": "code",
   "execution_count": 26,
   "id": "65d1ca4a-8055-41fb-8144-f477d95bd84e",
   "metadata": {},
   "outputs": [
    {
     "data": {
      "text/plain": [
       "0"
      ]
     },
     "execution_count": 26,
     "metadata": {},
     "output_type": "execute_result"
    }
   ],
   "source": [
    "d=defaultdict(lambda:0)\n",
    "d['one']"
   ]
  },
  {
   "cell_type": "code",
   "execution_count": 27,
   "id": "72376c7d-2a06-4942-9378-3d1196b1dea2",
   "metadata": {},
   "outputs": [
    {
     "data": {
      "text/plain": [
       "0"
      ]
     },
     "execution_count": 27,
     "metadata": {},
     "output_type": "execute_result"
    }
   ],
   "source": [
    "d['two']"
   ]
  },
  {
   "cell_type": "code",
   "execution_count": 28,
   "id": "005247f5-c4c2-4fa3-91dd-17903d7ed7a2",
   "metadata": {},
   "outputs": [
    {
     "data": {
      "text/plain": [
       "defaultdict(<function __main__.<lambda>()>, {'one': 0, 'two': 0})"
      ]
     },
     "execution_count": 28,
     "metadata": {},
     "output_type": "execute_result"
    }
   ],
   "source": [
    "d"
   ]
  },
  {
   "cell_type": "code",
   "execution_count": 29,
   "id": "f276091d-558c-4713-ab8f-46151a3ac848",
   "metadata": {},
   "outputs": [],
   "source": [
    "from collections import namedtuple"
   ]
  },
  {
   "cell_type": "code",
   "execution_count": 30,
   "id": "b04b225d-1ffe-436a-a05b-f07db95da294",
   "metadata": {},
   "outputs": [],
   "source": [
    "t=(10,11,12)"
   ]
  },
  {
   "cell_type": "code",
   "execution_count": 31,
   "id": "e9b40d85-343e-4f50-993c-06ced7867d09",
   "metadata": {},
   "outputs": [
    {
     "data": {
      "text/plain": [
       "10"
      ]
     },
     "execution_count": 31,
     "metadata": {},
     "output_type": "execute_result"
    }
   ],
   "source": [
    "t[0\n",
    "]"
   ]
  },
  {
   "cell_type": "code",
   "execution_count": 32,
   "id": "7ed544c5-7e79-4d59-bb8e-225271c6e85f",
   "metadata": {},
   "outputs": [
    {
     "data": {
      "text/plain": [
       "'C:\\\\Users\\\\Hp\\\\Python'"
      ]
     },
     "execution_count": 32,
     "metadata": {},
     "output_type": "execute_result"
    }
   ],
   "source": [
    "pwd\n"
   ]
  },
  {
   "cell_type": "code",
   "execution_count": 35,
   "id": "cbf15f7f-aa11-4df9-ad25-9ad81509dfbb",
   "metadata": {},
   "outputs": [],
   "source": [
    "# OS AND SHUTIL MODULES\n",
    "f=open('practice.txt','w+')\n",
    "f.write(\"This is a text file creaated for learning file handling in Python\")\n",
    "f.close()"
   ]
  },
  {
   "cell_type": "code",
   "execution_count": 36,
   "id": "1c13e97c-3689-4bda-8529-327204c268d9",
   "metadata": {},
   "outputs": [],
   "source": [
    "import os"
   ]
  },
  {
   "cell_type": "code",
   "execution_count": 37,
   "id": "150e1d50-0294-45e3-b247-4f4704ebe6ee",
   "metadata": {},
   "outputs": [
    {
     "data": {
      "text/plain": [
       "'C:\\\\Users\\\\Hp\\\\Python'"
      ]
     },
     "execution_count": 37,
     "metadata": {},
     "output_type": "execute_result"
    }
   ],
   "source": [
    "os.getcwd()"
   ]
  },
  {
   "cell_type": "code",
   "execution_count": 38,
   "id": "dfac8a4c-45b9-4f78-a65d-182e4ae72d52",
   "metadata": {},
   "outputs": [
    {
     "data": {
      "text/plain": [
       "['.ipynb_checkpoints',\n",
       " 'Advance Modules.ipynb',\n",
       " 'Assesment1.ipynb',\n",
       " 'Assessement2.ipynb',\n",
       " 'Assessment 4.ipynb',\n",
       " 'Assessment3.ipynb',\n",
       " 'Decorators.ipynb',\n",
       " 'Dictionaries.ipynb',\n",
       " 'Exception Handling.ipynb',\n",
       " 'Guessing game.ipynb',\n",
       " 'List.ipynb',\n",
       " 'Maps and lambda Function.ipynb',\n",
       " 'Methods and Functions.ipynb',\n",
       " 'Numbers.ipynb',\n",
       " 'OOPS.ipynb',\n",
       " 'practice.txt',\n",
       " 'Strings.ipynb',\n",
       " 'Variables.ipynb']"
      ]
     },
     "execution_count": 38,
     "metadata": {},
     "output_type": "execute_result"
    }
   ],
   "source": [
    "os.listdir()"
   ]
  },
  {
   "cell_type": "code",
   "execution_count": 39,
   "id": "d96caac1-0b7d-41b6-8063-c88cb8b6d18b",
   "metadata": {},
   "outputs": [],
   "source": [
    "import shutil"
   ]
  },
  {
   "cell_type": "code",
   "execution_count": 41,
   "id": "36481780-7a52-4ec3-91b6-3deda51458be",
   "metadata": {},
   "outputs": [
    {
     "data": {
      "text/plain": [
       "'C:\\\\Users\\\\Hp\\\\practice.txt'"
      ]
     },
     "execution_count": 41,
     "metadata": {},
     "output_type": "execute_result"
    }
   ],
   "source": [
    "shutil.move('practice.txt','C:\\\\Users\\\\Hp')"
   ]
  },
  {
   "cell_type": "code",
   "execution_count": 42,
   "id": "e6a6dd61-58a3-4054-981b-4e167992e951",
   "metadata": {},
   "outputs": [
    {
     "data": {
      "text/plain": [
       "'C:\\\\Users\\\\Hp\\\\Python'"
      ]
     },
     "execution_count": 42,
     "metadata": {},
     "output_type": "execute_result"
    }
   ],
   "source": [
    "os.getcwd()"
   ]
  },
  {
   "cell_type": "code",
   "execution_count": null,
   "id": "1c56c2b2-37fb-4028-bbe4-bc4f617f13a9",
   "metadata": {},
   "outputs": [],
   "source": [
    "file_path = "
   ]
  },
  {
   "cell_type": "code",
   "execution_count": null,
   "id": "b6d950ae-ef7c-488d-ba2c-adecc3f7134e",
   "metadata": {},
   "outputs": [],
   "source": []
  }
 ],
 "metadata": {
  "kernelspec": {
   "display_name": "Python 3 (ipykernel)",
   "language": "python",
   "name": "python3"
  },
  "language_info": {
   "codemirror_mode": {
    "name": "ipython",
    "version": 3
   },
   "file_extension": ".py",
   "mimetype": "text/x-python",
   "name": "python",
   "nbconvert_exporter": "python",
   "pygments_lexer": "ipython3",
   "version": "3.11.7"
  }
 },
 "nbformat": 4,
 "nbformat_minor": 5
}
