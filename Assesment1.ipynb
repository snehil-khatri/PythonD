{
 "cells": [
  {
   "cell_type": "code",
   "execution_count": 1,
   "id": "e002e140-130e-4747-acc0-8cd1ac616477",
   "metadata": {},
   "outputs": [
    {
     "data": {
      "text/plain": [
       "100.25"
      ]
     },
     "execution_count": 1,
     "metadata": {},
     "output_type": "execute_result"
    }
   ],
   "source": [
    "100+0.25"
   ]
  },
  {
   "cell_type": "code",
   "execution_count": 2,
   "id": "319da1b1-0205-4c7f-acbb-da8f0ebe77e3",
   "metadata": {},
   "outputs": [
    {
     "data": {
      "text/plain": [
       "44"
      ]
     },
     "execution_count": 2,
     "metadata": {},
     "output_type": "execute_result"
    }
   ],
   "source": [
    " 4 * (6 + 5)"
   ]
  },
  {
   "cell_type": "code",
   "execution_count": 3,
   "id": "2ab47447-3b03-47d5-92c2-76b50f2ac119",
   "metadata": {},
   "outputs": [
    {
     "data": {
      "text/plain": [
       "29"
      ]
     },
     "execution_count": 3,
     "metadata": {},
     "output_type": "execute_result"
    }
   ],
   "source": [
    "4 * 6 + 5"
   ]
  },
  {
   "cell_type": "code",
   "execution_count": 4,
   "id": "ee34b603-4202-4b0c-be08-f40a0366535b",
   "metadata": {},
   "outputs": [
    {
     "data": {
      "text/plain": [
       "34"
      ]
     },
     "execution_count": 4,
     "metadata": {},
     "output_type": "execute_result"
    }
   ],
   "source": [
    "4 + 6 * 5\n"
   ]
  },
  {
   "cell_type": "code",
   "execution_count": 5,
   "id": "dd137637-c5da-4894-8b20-79e8915ed2bd",
   "metadata": {},
   "outputs": [
    {
     "data": {
      "text/plain": [
       "float"
      ]
     },
     "execution_count": 5,
     "metadata": {},
     "output_type": "execute_result"
    }
   ],
   "source": [
    "type(3+1.5+4)"
   ]
  },
  {
   "cell_type": "code",
   "execution_count": 7,
   "id": "c778bac4-3728-40ea-a604-a051327e36f7",
   "metadata": {},
   "outputs": [
    {
     "name": "stdout",
     "output_type": "stream",
     "text": [
      "81\n"
     ]
    }
   ],
   "source": [
    "num=9\n",
    "num=num**2\n",
    "print(num)"
   ]
  },
  {
   "cell_type": "code",
   "execution_count": 9,
   "id": "c53552fe-a596-4b5d-8ab2-5a02f0b52c79",
   "metadata": {},
   "outputs": [
    {
     "name": "stdout",
     "output_type": "stream",
     "text": [
      "e\n"
     ]
    }
   ],
   "source": [
    "s=\"hello\"\n",
    "print(s[1])"
   ]
  },
  {
   "cell_type": "code",
   "execution_count": 10,
   "id": "2df26b18-c740-447f-8c4d-0e6b100aa305",
   "metadata": {},
   "outputs": [
    {
     "data": {
      "text/plain": [
       "'hello'"
      ]
     },
     "execution_count": 10,
     "metadata": {},
     "output_type": "execute_result"
    }
   ],
   "source": [
    "s"
   ]
  },
  {
   "cell_type": "code",
   "execution_count": 11,
   "id": "1a4f876c-7df8-42cf-86ae-ce0c9661795a",
   "metadata": {},
   "outputs": [
    {
     "data": {
      "text/plain": [
       "'o'"
      ]
     },
     "execution_count": 11,
     "metadata": {},
     "output_type": "execute_result"
    }
   ],
   "source": [
    "s[-1:]"
   ]
  },
  {
   "cell_type": "code",
   "execution_count": 15,
   "id": "e7ae6eef-b790-43c3-9f0c-003739a69f98",
   "metadata": {},
   "outputs": [
    {
     "data": {
      "text/plain": [
       "'olleh'"
      ]
     },
     "execution_count": 15,
     "metadata": {},
     "output_type": "execute_result"
    }
   ],
   "source": [
    "s[-1::-1]"
   ]
  },
  {
   "cell_type": "code",
   "execution_count": 16,
   "id": "7d1d46c1-0bbb-4c83-94a5-b84c54ccad3c",
   "metadata": {},
   "outputs": [],
   "source": [
    "mylist=[0,0,0]"
   ]
  },
  {
   "cell_type": "code",
   "execution_count": 17,
   "id": "3b7802dd-7303-4d8c-a9b1-a3ccec531c96",
   "metadata": {},
   "outputs": [
    {
     "data": {
      "text/plain": [
       "[0, 0, 0]"
      ]
     },
     "execution_count": 17,
     "metadata": {},
     "output_type": "execute_result"
    }
   ],
   "source": [
    "mylist\n"
   ]
  },
  {
   "cell_type": "code",
   "execution_count": 18,
   "id": "a3d46c3e-71b2-400f-bb92-f4d8b303eea7",
   "metadata": {},
   "outputs": [
    {
     "data": {
      "text/plain": [
       "'olleh'"
      ]
     },
     "execution_count": 18,
     "metadata": {},
     "output_type": "execute_result"
    }
   ],
   "source": [
    "s[::-1]"
   ]
  },
  {
   "cell_type": "code",
   "execution_count": 19,
   "id": "0446ad69-37ca-4cbc-a5a7-33713904a52e",
   "metadata": {},
   "outputs": [],
   "source": [
    "list3=[1,2,[3,4,\"hello\"]]"
   ]
  },
  {
   "cell_type": "code",
   "execution_count": 20,
   "id": "3080e18e-bbfc-4f86-9816-52526be2c466",
   "metadata": {},
   "outputs": [
    {
     "data": {
      "text/plain": [
       "[1, 2, [3, 4, 'hello']]"
      ]
     },
     "execution_count": 20,
     "metadata": {},
     "output_type": "execute_result"
    }
   ],
   "source": [
    "list3"
   ]
  },
  {
   "cell_type": "code",
   "execution_count": 21,
   "id": "725c16a3-7226-45eb-89ef-009a2bbefc36",
   "metadata": {},
   "outputs": [],
   "source": [
    "list3[2][2]='goodbye'"
   ]
  },
  {
   "cell_type": "code",
   "execution_count": 22,
   "id": "1e48d9f8-281a-4fdc-a279-55cff9f24808",
   "metadata": {},
   "outputs": [
    {
     "data": {
      "text/plain": [
       "[1, 2, [3, 4, 'goodbye']]"
      ]
     },
     "execution_count": 22,
     "metadata": {},
     "output_type": "execute_result"
    }
   ],
   "source": [
    "list3"
   ]
  },
  {
   "cell_type": "code",
   "execution_count": 23,
   "id": "bf6270a0-6c3c-4035-bc9c-b511dbfd7372",
   "metadata": {},
   "outputs": [],
   "source": [
    "list4=[5,4,3,2,1]"
   ]
  },
  {
   "cell_type": "code",
   "execution_count": 24,
   "id": "dc5d9b62-890d-48e4-ab02-880ddf2acf3f",
   "metadata": {},
   "outputs": [],
   "source": [
    "list4.sort()"
   ]
  },
  {
   "cell_type": "code",
   "execution_count": 25,
   "id": "65bca534-449c-46de-b254-a98be0045065",
   "metadata": {},
   "outputs": [
    {
     "data": {
      "text/plain": [
       "[1, 2, 3, 4, 5]"
      ]
     },
     "execution_count": 25,
     "metadata": {},
     "output_type": "execute_result"
    }
   ],
   "source": [
    "list4\n"
   ]
  },
  {
   "cell_type": "code",
   "execution_count": 26,
   "id": "a1324fd6-9e18-4273-a828-6d558ced43e8",
   "metadata": {},
   "outputs": [],
   "source": [
    "d = {'simple_key':'hello'}"
   ]
  },
  {
   "cell_type": "code",
   "execution_count": 28,
   "id": "ba7543fd-fa1e-460c-b374-e67316215715",
   "metadata": {},
   "outputs": [
    {
     "data": {
      "text/plain": [
       "'hello'"
      ]
     },
     "execution_count": 28,
     "metadata": {},
     "output_type": "execute_result"
    }
   ],
   "source": [
    "d['simple_key']"
   ]
  },
  {
   "cell_type": "code",
   "execution_count": 29,
   "id": "214dbec1-ffd6-49ff-a34f-cd8c5edc9aa3",
   "metadata": {},
   "outputs": [],
   "source": [
    "d2= {'k1':{'k2':'hello'}}"
   ]
  },
  {
   "cell_type": "code",
   "execution_count": 30,
   "id": "94b641e3-f737-461c-b292-029187724004",
   "metadata": {},
   "outputs": [
    {
     "data": {
      "text/plain": [
       "'hello'"
      ]
     },
     "execution_count": 30,
     "metadata": {},
     "output_type": "execute_result"
    }
   ],
   "source": [
    "d2['k1']['k2']"
   ]
  },
  {
   "cell_type": "code",
   "execution_count": 35,
   "id": "dfc96a5f-ce65-481e-b507-3f861e2c4736",
   "metadata": {},
   "outputs": [],
   "source": [
    "d3 = {'k1':[{'nest_key':['this is deep',['hello','hi']]}]}"
   ]
  },
  {
   "cell_type": "code",
   "execution_count": 37,
   "id": "d32ae749-8101-43ee-9420-15e36f7fd8b3",
   "metadata": {},
   "outputs": [
    {
     "data": {
      "text/plain": [
       "'hello'"
      ]
     },
     "execution_count": 37,
     "metadata": {},
     "output_type": "execute_result"
    }
   ],
   "source": [
    "d3['k1'][0]['nest_key'][1][0]"
   ]
  },
  {
   "cell_type": "code",
   "execution_count": 38,
   "id": "d9a35162-3cc9-4685-b316-8ceb23229592",
   "metadata": {},
   "outputs": [],
   "source": [
    "d4 = {'k1':[1,2,{'k2':['this is tricky',{'tough':[1,2,['hello']]}]}]}"
   ]
  },
  {
   "cell_type": "code",
   "execution_count": 39,
   "id": "e517e40a-4cf2-492a-937f-95de1735080b",
   "metadata": {},
   "outputs": [
    {
     "data": {
      "text/plain": [
       "'hello'"
      ]
     },
     "execution_count": 39,
     "metadata": {},
     "output_type": "execute_result"
    }
   ],
   "source": [
    "d4['k1'][2]['k2'][1]['tough'][2][0]"
   ]
  },
  {
   "cell_type": "code",
   "execution_count": 40,
   "id": "cade204f-9894-40ef-9de3-6df95128b90e",
   "metadata": {},
   "outputs": [],
   "source": [
    "list5 = [1,2,2,33,4,4,11,22,3,3,2]"
   ]
  },
  {
   "cell_type": "code",
   "execution_count": 41,
   "id": "0084f914-41b3-4739-8243-7de9a05b4d67",
   "metadata": {},
   "outputs": [
    {
     "data": {
      "text/plain": [
       "{1, 2, 3, 4, 11, 22, 33}"
      ]
     },
     "execution_count": 41,
     "metadata": {},
     "output_type": "execute_result"
    }
   ],
   "source": [
    "set(list5)"
   ]
  },
  {
   "cell_type": "code",
   "execution_count": null,
   "id": "e5667e91-330c-46ee-abdf-86d9bf62352a",
   "metadata": {},
   "outputs": [],
   "source": []
  }
 ],
 "metadata": {
  "kernelspec": {
   "display_name": "Python 3 (ipykernel)",
   "language": "python",
   "name": "python3"
  },
  "language_info": {
   "codemirror_mode": {
    "name": "ipython",
    "version": 3
   },
   "file_extension": ".py",
   "mimetype": "text/x-python",
   "name": "python",
   "nbconvert_exporter": "python",
   "pygments_lexer": "ipython3",
   "version": "3.11.7"
  }
 },
 "nbformat": 4,
 "nbformat_minor": 5
}
