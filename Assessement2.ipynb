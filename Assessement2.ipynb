{
 "cells": [
  {
   "cell_type": "code",
   "execution_count": 1,
   "id": "33215862-3e09-4cc5-b05f-837a4ea5b05f",
   "metadata": {},
   "outputs": [],
   "source": [
    "st = 'Print only the words that start with s in this sentence'"
   ]
  },
  {
   "cell_type": "code",
   "execution_count": 3,
   "id": "9cec4ceb-3fb8-4110-a012-82cebbfb80a2",
   "metadata": {},
   "outputs": [
    {
     "name": "stdout",
     "output_type": "stream",
     "text": [
      "start\n",
      "s\n",
      "sentence\n"
     ]
    }
   ],
   "source": [
    "for word in st.split():\n",
    "    if(word[0]=='s'):\n",
    "        print(word)"
   ]
  },
  {
   "cell_type": "code",
   "execution_count": 5,
   "id": "137b6c5f-2291-4fa9-a956-87db581e7abe",
   "metadata": {},
   "outputs": [
    {
     "data": {
      "text/plain": [
       "[0, 2, 4, 6, 8, 10]"
      ]
     },
     "execution_count": 5,
     "metadata": {},
     "output_type": "execute_result"
    }
   ],
   "source": [
    "list(range(0,11,2))"
   ]
  },
  {
   "cell_type": "code",
   "execution_count": 6,
   "id": "85db95d8-206f-4319-acd8-bde17b3be0a1",
   "metadata": {},
   "outputs": [],
   "source": [
    "str = 'Print every word in this sentence that has an even number of letters'"
   ]
  },
  {
   "cell_type": "code",
   "execution_count": 10,
   "id": "80d13b8c-eae4-473a-8b26-f5ccf90d1a40",
   "metadata": {},
   "outputs": [
    {
     "name": "stdout",
     "output_type": "stream",
     "text": [
      "word is even\n",
      "in is even\n",
      "this is even\n",
      "sentence is even\n",
      "that is even\n",
      "an is even\n",
      "even is even\n",
      "number is even\n",
      "of is even\n"
     ]
    }
   ],
   "source": [
    "for word in str.split():\n",
    "    if len(word)%2==0:\n",
    "        print(word +' is even')"
   ]
  },
  {
   "cell_type": "code",
   "execution_count": 12,
   "id": "5a6f7386-a128-426f-a028-ae7b2b0b4dbb",
   "metadata": {},
   "outputs": [
    {
     "data": {
      "text/plain": [
       "[3, 6, 9, 12, 15, 18, 21, 24, 27, 30, 33, 36, 39, 42, 45, 48]"
      ]
     },
     "execution_count": 12,
     "metadata": {},
     "output_type": "execute_result"
    }
   ],
   "source": [
    "[x for x in range(1,51) if x%3 == 0]"
   ]
  },
  {
   "cell_type": "code",
   "execution_count": 16,
   "id": "63bf3ddd-7afa-4974-8567-63454cca74d0",
   "metadata": {},
   "outputs": [
    {
     "name": "stdout",
     "output_type": "stream",
     "text": [
      "1\n",
      "2\n",
      "Fizz\n",
      "4\n",
      "Buzz\n",
      "Fizz\n",
      "7\n",
      "8\n",
      "Fizz\n",
      "Buzz\n",
      "11\n",
      "Fizz\n",
      "13\n",
      "14\n",
      "Fizz\n",
      "16\n",
      "17\n",
      "Fizz\n",
      "19\n",
      "Buzz\n",
      "Fizz\n",
      "22\n",
      "23\n",
      "Fizz\n",
      "Buzz\n",
      "26\n",
      "Fizz\n",
      "28\n",
      "29\n",
      "Fizz\n",
      "31\n",
      "32\n",
      "Fizz\n",
      "34\n",
      "Buzz\n",
      "Fizz\n",
      "37\n",
      "38\n",
      "Fizz\n",
      "Buzz\n",
      "41\n",
      "Fizz\n",
      "43\n",
      "44\n",
      "Fizz\n",
      "46\n",
      "47\n",
      "Fizz\n",
      "49\n",
      "Buzz\n",
      "Fizz\n",
      "52\n",
      "53\n",
      "Fizz\n",
      "Buzz\n",
      "56\n",
      "Fizz\n",
      "58\n",
      "59\n",
      "Fizz\n",
      "61\n",
      "62\n",
      "Fizz\n",
      "64\n",
      "Buzz\n",
      "Fizz\n",
      "67\n",
      "68\n",
      "Fizz\n",
      "Buzz\n",
      "71\n",
      "Fizz\n",
      "73\n",
      "74\n",
      "Fizz\n",
      "76\n",
      "77\n",
      "Fizz\n",
      "79\n",
      "Buzz\n",
      "Fizz\n",
      "82\n",
      "83\n",
      "Fizz\n",
      "Buzz\n",
      "86\n",
      "Fizz\n",
      "88\n",
      "89\n",
      "Fizz\n",
      "91\n",
      "92\n",
      "Fizz\n",
      "94\n",
      "Buzz\n",
      "Fizz\n",
      "97\n",
      "98\n",
      "Fizz\n",
      "Buzz\n"
     ]
    }
   ],
   "source": [
    "for x in range(1,101):\n",
    "    if(x%3 == 0):\n",
    "        print('Fizz')\n",
    "    elif(x%5 == 0):\n",
    "        print('Buzz')\n",
    "    elif(x%3 == 0 and x%5 == 0):\n",
    "        print('Fizzbuzz')\n",
    "    else:\n",
    "        print(x)"
   ]
  },
  {
   "cell_type": "code",
   "execution_count": 17,
   "id": "b7fd4444-04bb-4b8b-aa4c-757c724f5c23",
   "metadata": {},
   "outputs": [],
   "source": [
    "st = 'Create a list of the first letters of every word in this string'"
   ]
  },
  {
   "cell_type": "code",
   "execution_count": 18,
   "id": "5364764e-d8d7-46b0-b2ed-c641e974a6b7",
   "metadata": {},
   "outputs": [],
   "source": [
    "li=[letter[0] for letter in st.split() ]"
   ]
  },
  {
   "cell_type": "code",
   "execution_count": null,
   "id": "f32c6966-9fa6-492a-b2bf-6e3da5259672",
   "metadata": {},
   "outputs": [],
   "source": [
    "li"
   ]
  }
 ],
 "metadata": {
  "kernelspec": {
   "display_name": "Python 3 (ipykernel)",
   "language": "python",
   "name": "python3"
  },
  "language_info": {
   "codemirror_mode": {
    "name": "ipython",
    "version": 3
   },
   "file_extension": ".py",
   "mimetype": "text/x-python",
   "name": "python",
   "nbconvert_exporter": "python",
   "pygments_lexer": "ipython3",
   "version": "3.11.7"
  }
 },
 "nbformat": 4,
 "nbformat_minor": 5
}
