{
 "cells": [
  {
   "cell_type": "code",
   "execution_count": 19,
   "id": "075534c6-f697-41b2-9471-18fc8d07a34f",
   "metadata": {},
   "outputs": [],
   "source": [
    "class Account():\n",
    "    def __init__(self,owner,balance):\n",
    "        self.owner = owner\n",
    "        self.balance = balance\n",
    "\n",
    "    def deposit(self,dep):\n",
    "        self.balance += dep\n",
    "        print(\"Deposit accepted\")\n",
    "\n",
    "    def withdraw(self,withdraw):\n",
    "        if(withdraw > self.balance):\n",
    "            print(\"Funds Unavailable!!\")\n",
    "        else:\n",
    "            self.balance -= withdraw\n",
    "            print(\"Withdrawal Accepted\")\n",
    "\n",
    "    def __str__(self):\n",
    "         return (f\"Account owner : {self.owner}\\nAccount balance : ${self.balance}\")"
   ]
  },
  {
   "cell_type": "code",
   "execution_count": 20,
   "id": "2943ed41-ba2d-452a-8d9a-47b1f9d24a52",
   "metadata": {},
   "outputs": [],
   "source": [
    "acct1 = Account('Jose',100)"
   ]
  },
  {
   "cell_type": "code",
   "execution_count": 21,
   "id": "2643dfb6-82e8-4dab-897b-4f1a440f3a10",
   "metadata": {},
   "outputs": [
    {
     "name": "stdout",
     "output_type": "stream",
     "text": [
      "Account owner : Jose\n",
      "Account balance : $100\n"
     ]
    }
   ],
   "source": [
    "print(acct1)"
   ]
  },
  {
   "cell_type": "code",
   "execution_count": 22,
   "id": "3aa8a871-a462-4917-b3f1-d45f59a69d66",
   "metadata": {},
   "outputs": [
    {
     "data": {
      "text/plain": [
       "'Jose'"
      ]
     },
     "execution_count": 22,
     "metadata": {},
     "output_type": "execute_result"
    }
   ],
   "source": [
    "acct1.owner"
   ]
  },
  {
   "cell_type": "code",
   "execution_count": 29,
   "id": "4f0d0001-8ac9-4f13-b17a-115733811523",
   "metadata": {},
   "outputs": [
    {
     "data": {
      "text/plain": [
       "125"
      ]
     },
     "execution_count": 29,
     "metadata": {},
     "output_type": "execute_result"
    }
   ],
   "source": [
    "acct1.balance"
   ]
  },
  {
   "cell_type": "code",
   "execution_count": 26,
   "id": "aad05a27-43c0-49c0-8c97-76eb037e76cb",
   "metadata": {},
   "outputs": [
    {
     "name": "stdout",
     "output_type": "stream",
     "text": [
      "Deposit accepted\n"
     ]
    }
   ],
   "source": [
    "acct1.deposit(50)"
   ]
  },
  {
   "cell_type": "code",
   "execution_count": 28,
   "id": "2491f794-182e-4dde-8527-81bcf3eca11a",
   "metadata": {},
   "outputs": [
    {
     "name": "stdout",
     "output_type": "stream",
     "text": [
      "Withdrawal Accepted\n"
     ]
    }
   ],
   "source": [
    "acct1.withdraw(75)"
   ]
  },
  {
   "cell_type": "code",
   "execution_count": 30,
   "id": "c11a38b0-4819-4693-9e0c-da60950df702",
   "metadata": {},
   "outputs": [
    {
     "name": "stdout",
     "output_type": "stream",
     "text": [
      "Funds Unavailable!!\n"
     ]
    }
   ],
   "source": [
    "acct1.withdraw(500)"
   ]
  },
  {
   "cell_type": "code",
   "execution_count": null,
   "id": "e952b476-d036-40bc-932b-e393a1efccb2",
   "metadata": {},
   "outputs": [],
   "source": []
  }
 ],
 "metadata": {
  "kernelspec": {
   "display_name": "Python 3 (ipykernel)",
   "language": "python",
   "name": "python3"
  },
  "language_info": {
   "codemirror_mode": {
    "name": "ipython",
    "version": 3
   },
   "file_extension": ".py",
   "mimetype": "text/x-python",
   "name": "python",
   "nbconvert_exporter": "python",
   "pygments_lexer": "ipython3",
   "version": "3.11.7"
  }
 },
 "nbformat": 4,
 "nbformat_minor": 5
}
