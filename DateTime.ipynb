{
 "cells": [
  {
   "cell_type": "code",
   "execution_count": 1,
   "id": "c9632467-0cdd-43c1-80cd-83df6ab0548c",
   "metadata": {},
   "outputs": [],
   "source": [
    "import datetime"
   ]
  },
  {
   "cell_type": "code",
   "execution_count": 2,
   "id": "3e1ffeaa-c446-4669-821b-936c5a801ba8",
   "metadata": {},
   "outputs": [],
   "source": [
    "t = datetime.time(15,30,3)"
   ]
  },
  {
   "cell_type": "code",
   "execution_count": 3,
   "id": "1b775eac-680a-41ac-9f88-533d67f89c60",
   "metadata": {},
   "outputs": [
    {
     "data": {
      "text/plain": [
       "datetime.time(15, 30, 3)"
      ]
     },
     "execution_count": 3,
     "metadata": {},
     "output_type": "execute_result"
    }
   ],
   "source": [
    "t"
   ]
  },
  {
   "cell_type": "code",
   "execution_count": 4,
   "id": "91f1f26d-9e01-4357-89e7-ef2c58a5b8f0",
   "metadata": {},
   "outputs": [
    {
     "name": "stdout",
     "output_type": "stream",
     "text": [
      "15:30:03\n"
     ]
    }
   ],
   "source": [
    "print(t)"
   ]
  },
  {
   "cell_type": "code",
   "execution_count": 5,
   "id": "7eedf48b-4a69-4322-b51b-1bfb797eabd9",
   "metadata": {},
   "outputs": [
    {
     "data": {
      "text/plain": [
       "15"
      ]
     },
     "execution_count": 5,
     "metadata": {},
     "output_type": "execute_result"
    }
   ],
   "source": [
    "t.hour"
   ]
  },
  {
   "cell_type": "code",
   "execution_count": 6,
   "id": "dad95050-fe96-49c8-b8af-6ccec66932d8",
   "metadata": {},
   "outputs": [
    {
     "data": {
      "text/plain": [
       "30"
      ]
     },
     "execution_count": 6,
     "metadata": {},
     "output_type": "execute_result"
    }
   ],
   "source": [
    "t.minute"
   ]
  },
  {
   "cell_type": "code",
   "execution_count": 7,
   "id": "fa724639-fba3-43a5-b8a8-2623abbbf8da",
   "metadata": {},
   "outputs": [
    {
     "data": {
      "text/plain": [
       "datetime.time(0, 0)"
      ]
     },
     "execution_count": 7,
     "metadata": {},
     "output_type": "execute_result"
    }
   ],
   "source": [
    "t.min"
   ]
  },
  {
   "cell_type": "code",
   "execution_count": 8,
   "id": "e6f208e7-b037-4906-8dd2-84c35d4ffe0d",
   "metadata": {},
   "outputs": [
    {
     "data": {
      "text/plain": [
       "3"
      ]
     },
     "execution_count": 8,
     "metadata": {},
     "output_type": "execute_result"
    }
   ],
   "source": [
    "t.second"
   ]
  },
  {
   "cell_type": "code",
   "execution_count": 9,
   "id": "18eb118b-96e5-4621-8519-67af8f73ebc1",
   "metadata": {},
   "outputs": [],
   "source": [
    "t.tzinfo"
   ]
  },
  {
   "cell_type": "code",
   "execution_count": 10,
   "id": "bba858cb-cb9d-4a46-ad33-d5acfad077ef",
   "metadata": {},
   "outputs": [
    {
     "data": {
      "text/plain": [
       "datetime.time(23, 59, 59, 999999)"
      ]
     },
     "execution_count": 10,
     "metadata": {},
     "output_type": "execute_result"
    }
   ],
   "source": [
    "datetime.time.max"
   ]
  },
  {
   "cell_type": "code",
   "execution_count": 11,
   "id": "6943f039-5b59-4e35-86af-6457fe2f2925",
   "metadata": {},
   "outputs": [
    {
     "data": {
      "text/plain": [
       "datetime.time(0, 0)"
      ]
     },
     "execution_count": 11,
     "metadata": {},
     "output_type": "execute_result"
    }
   ],
   "source": [
    "datetime.time.min"
   ]
  },
  {
   "cell_type": "code",
   "execution_count": 12,
   "id": "affc14bc-7027-48bb-81bd-1a1c2925e28f",
   "metadata": {},
   "outputs": [
    {
     "data": {
      "text/plain": [
       "<function date.today>"
      ]
     },
     "execution_count": 12,
     "metadata": {},
     "output_type": "execute_result"
    }
   ],
   "source": [
    "datetime.date.today"
   ]
  },
  {
   "cell_type": "code",
   "execution_count": 18,
   "id": "b27d0a7b-4e7f-4c39-8ae8-e855a680b864",
   "metadata": {},
   "outputs": [],
   "source": [
    "my_date = datetime.date.today()"
   ]
  },
  {
   "cell_type": "code",
   "execution_count": 19,
   "id": "aaafb440-936b-4e35-813f-9b5946f146d6",
   "metadata": {},
   "outputs": [
    {
     "name": "stdout",
     "output_type": "stream",
     "text": [
      "2024-03-15\n"
     ]
    }
   ],
   "source": [
    "print(my_date)"
   ]
  },
  {
   "cell_type": "code",
   "execution_count": 20,
   "id": "81727b55-a1f4-4038-99ba-ca780615a971",
   "metadata": {},
   "outputs": [
    {
     "data": {
      "text/plain": [
       "'Fri Mar 15 00:00:00 2024'"
      ]
     },
     "execution_count": 20,
     "metadata": {},
     "output_type": "execute_result"
    }
   ],
   "source": [
    "my_date.ctime()"
   ]
  },
  {
   "cell_type": "code",
   "execution_count": 21,
   "id": "20d43321-ca0a-4a7e-a022-709b6420719b",
   "metadata": {},
   "outputs": [
    {
     "data": {
      "text/plain": [
       "time.struct_time(tm_year=2024, tm_mon=3, tm_mday=15, tm_hour=0, tm_min=0, tm_sec=0, tm_wday=4, tm_yday=75, tm_isdst=-1)"
      ]
     },
     "execution_count": 21,
     "metadata": {},
     "output_type": "execute_result"
    }
   ],
   "source": [
    "my_date.timetuple()"
   ]
  },
  {
   "cell_type": "code",
   "execution_count": 22,
   "id": "f6a3f6d8-56ed-442d-ae4c-9b66e80d8a93",
   "metadata": {},
   "outputs": [
    {
     "data": {
      "text/plain": [
       "datetime.date(9999, 12, 31)"
      ]
     },
     "execution_count": 22,
     "metadata": {},
     "output_type": "execute_result"
    }
   ],
   "source": [
    "datetime.date.max"
   ]
  },
  {
   "cell_type": "code",
   "execution_count": 23,
   "id": "338f98ca-a6eb-464b-bd3f-8644ea8ac941",
   "metadata": {},
   "outputs": [
    {
     "data": {
      "text/plain": [
       "datetime.date(1, 1, 1)"
      ]
     },
     "execution_count": 23,
     "metadata": {},
     "output_type": "execute_result"
    }
   ],
   "source": [
    "datetime.date.min"
   ]
  },
  {
   "cell_type": "code",
   "execution_count": 24,
   "id": "979e526f-9715-447d-897e-ef31bea6f9d0",
   "metadata": {},
   "outputs": [],
   "source": [
    "from datetime import datetime\n"
   ]
  },
  {
   "cell_type": "code",
   "execution_count": 26,
   "id": "27115949-2244-464c-a8ec-4de2cbb2d6b5",
   "metadata": {},
   "outputs": [],
   "source": [
    "d1 = datetime(2023,3,15)"
   ]
  },
  {
   "cell_type": "code",
   "execution_count": 27,
   "id": "84e44895-410b-40c8-afa7-0dc5cb38f6b3",
   "metadata": {},
   "outputs": [],
   "source": [
    "d2 = d1.replace(year = 2024)"
   ]
  },
  {
   "cell_type": "code",
   "execution_count": 28,
   "id": "d1ae822d-69a4-4adb-9348-42e06dcaed7e",
   "metadata": {},
   "outputs": [
    {
     "data": {
      "text/plain": [
       "datetime.datetime(2024, 3, 15, 0, 0)"
      ]
     },
     "execution_count": 28,
     "metadata": {},
     "output_type": "execute_result"
    }
   ],
   "source": [
    "d2"
   ]
  },
  {
   "cell_type": "code",
   "execution_count": 29,
   "id": "ab1bc356-29c3-4e06-b18f-bb425a49a7b3",
   "metadata": {},
   "outputs": [
    {
     "data": {
      "text/plain": [
       "datetime.timedelta(days=-366)"
      ]
     },
     "execution_count": 29,
     "metadata": {},
     "output_type": "execute_result"
    }
   ],
   "source": [
    "d1-d2"
   ]
  },
  {
   "cell_type": "code",
   "execution_count": 30,
   "id": "2b1198ce-5c29-4808-96d2-c0939fc8b379",
   "metadata": {},
   "outputs": [
    {
     "name": "stdout",
     "output_type": "stream",
     "text": [
      "-366 days, 0:00:00\n"
     ]
    }
   ],
   "source": [
    "print(d1-d2)"
   ]
  },
  {
   "cell_type": "code",
   "execution_count": 33,
   "id": "019f4a13-92fe-4b88-bd6e-5f08d39a5966",
   "metadata": {},
   "outputs": [],
   "source": [
    " result = d2-d1"
   ]
  },
  {
   "cell_type": "code",
   "execution_count": 32,
   "id": "33b5274e-da5a-4124-9aa6-9a704f7a2632",
   "metadata": {},
   "outputs": [
    {
     "data": {
      "text/plain": [
       "datetime.timedelta"
      ]
     },
     "execution_count": 32,
     "metadata": {},
     "output_type": "execute_result"
    }
   ],
   "source": [
    "type(d2-d1)"
   ]
  },
  {
   "cell_type": "code",
   "execution_count": 34,
   "id": "75e2ee77-1bfd-4277-ba96-4f4767444d30",
   "metadata": {},
   "outputs": [
    {
     "data": {
      "text/plain": [
       "0"
      ]
     },
     "execution_count": 34,
     "metadata": {},
     "output_type": "execute_result"
    }
   ],
   "source": [
    "result.seconds"
   ]
  },
  {
   "cell_type": "code",
   "execution_count": 35,
   "id": "3eb93e5e-4ed8-451d-a1a3-c0f14363d24f",
   "metadata": {},
   "outputs": [
    {
     "data": {
      "text/plain": [
       "<function timedelta.total_seconds>"
      ]
     },
     "execution_count": 35,
     "metadata": {},
     "output_type": "execute_result"
    }
   ],
   "source": [
    "result.total_seconds"
   ]
  },
  {
   "cell_type": "code",
   "execution_count": null,
   "id": "2f7a73d8-ca0c-42c1-a207-c35fa279d4e8",
   "metadata": {},
   "outputs": [],
   "source": []
  }
 ],
 "metadata": {
  "kernelspec": {
   "display_name": "Python 3 (ipykernel)",
   "language": "python",
   "name": "python3"
  },
  "language_info": {
   "codemirror_mode": {
    "name": "ipython",
    "version": 3
   },
   "file_extension": ".py",
   "mimetype": "text/x-python",
   "name": "python",
   "nbconvert_exporter": "python",
   "pygments_lexer": "ipython3",
   "version": "3.11.7"
  }
 },
 "nbformat": 4,
 "nbformat_minor": 5
}
