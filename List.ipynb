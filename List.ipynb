{
 "cells": [
  {
   "cell_type": "code",
   "execution_count": 1,
   "id": "98ff17d3-9dbb-494c-afca-29dc16e444de",
   "metadata": {},
   "outputs": [],
   "source": [
    "my_list=[1,2,3,4,5]"
   ]
  },
  {
   "cell_type": "code",
   "execution_count": 3,
   "id": "aa104165-a532-466d-a6d2-f8b3059ab5dd",
   "metadata": {},
   "outputs": [
    {
     "data": {
      "text/plain": [
       "5"
      ]
     },
     "execution_count": 3,
     "metadata": {},
     "output_type": "execute_result"
    }
   ],
   "source": [
    "len(my_list)"
   ]
  },
  {
   "cell_type": "code",
   "execution_count": 5,
   "id": "c3d5b6dc-2fe4-4626-851a-e870ffd6f57e",
   "metadata": {},
   "outputs": [],
   "source": [
    "my_list=[\"String\",1,20.3]"
   ]
  },
  {
   "cell_type": "code",
   "execution_count": null,
   "id": "79eaccbf-f161-47ef-82f0-3ef6978f9d4e",
   "metadata": {},
   "outputs": [],
   "source": []
  },
  {
   "cell_type": "code",
   "execution_count": 6,
   "id": "c4468445-cac1-446b-9105-9c674648dc72",
   "metadata": {},
   "outputs": [
    {
     "data": {
      "text/plain": [
       "['String', 1, 20.3]"
      ]
     },
     "execution_count": 6,
     "metadata": {},
     "output_type": "execute_result"
    }
   ],
   "source": [
    "my_list"
   ]
  },
  {
   "cell_type": "code",
   "execution_count": 7,
   "id": "fde66b01-6c59-4f72-8989-3b765a7b4639",
   "metadata": {},
   "outputs": [
    {
     "data": {
      "text/plain": [
       "'String'"
      ]
     },
     "execution_count": 7,
     "metadata": {},
     "output_type": "execute_result"
    }
   ],
   "source": [
    "my_list[0]"
   ]
  },
  {
   "cell_type": "code",
   "execution_count": 8,
   "id": "66ca0059-b2dd-44ea-bee9-e968e5242458",
   "metadata": {},
   "outputs": [
    {
     "data": {
      "text/plain": [
       "1"
      ]
     },
     "execution_count": 8,
     "metadata": {},
     "output_type": "execute_result"
    }
   ],
   "source": [
    "my_list[1]"
   ]
  },
  {
   "cell_type": "code",
   "execution_count": 10,
   "id": "1d8dc963-a9dd-4f45-9815-24766be958d3",
   "metadata": {},
   "outputs": [
    {
     "data": {
      "text/plain": [
       "[1, 20.3]"
      ]
     },
     "execution_count": 10,
     "metadata": {},
     "output_type": "execute_result"
    }
   ],
   "source": [
    "my_list[1:]"
   ]
  },
  {
   "cell_type": "code",
   "execution_count": 11,
   "id": "f9e14877-6a4c-46d5-8c4c-e7b9e210ecc2",
   "metadata": {},
   "outputs": [],
   "source": [
    "another_list=[2,30.3]"
   ]
  },
  {
   "cell_type": "code",
   "execution_count": 12,
   "id": "0ce438f0-206e-412b-bf20-44fbe578624d",
   "metadata": {},
   "outputs": [
    {
     "data": {
      "text/plain": [
       "['String', 1, 20.3, 2, 30.3]"
      ]
     },
     "execution_count": 12,
     "metadata": {},
     "output_type": "execute_result"
    }
   ],
   "source": [
    "my_list+another_list"
   ]
  },
  {
   "cell_type": "code",
   "execution_count": 13,
   "id": "ea42ef59-1086-4174-9229-ff34f8561fd0",
   "metadata": {},
   "outputs": [],
   "source": [
    "new_list=my_list+another_list"
   ]
  },
  {
   "cell_type": "code",
   "execution_count": 14,
   "id": "5a898428-0739-4557-bd05-68c11a2a3ea2",
   "metadata": {},
   "outputs": [
    {
     "data": {
      "text/plain": [
       "['String', 1, 20.3, 2, 30.3]"
      ]
     },
     "execution_count": 14,
     "metadata": {},
     "output_type": "execute_result"
    }
   ],
   "source": [
    "new_list"
   ]
  },
  {
   "cell_type": "code",
   "execution_count": 15,
   "id": "e1cac4fd-52c8-422d-b275-15f2d1b025f4",
   "metadata": {},
   "outputs": [
    {
     "data": {
      "text/plain": [
       "['String', 1, 20.3]"
      ]
     },
     "execution_count": 15,
     "metadata": {},
     "output_type": "execute_result"
    }
   ],
   "source": [
    "my_list"
   ]
  },
  {
   "cell_type": "code",
   "execution_count": 16,
   "id": "789c0585-8391-454f-96f1-abc6ebafe37c",
   "metadata": {},
   "outputs": [
    {
     "data": {
      "text/plain": [
       "[2, 30.3]"
      ]
     },
     "execution_count": 16,
     "metadata": {},
     "output_type": "execute_result"
    }
   ],
   "source": [
    "another_list"
   ]
  },
  {
   "cell_type": "code",
   "execution_count": 17,
   "id": "6d8848e1-15f9-422c-8338-ebc15ffa7c3e",
   "metadata": {},
   "outputs": [],
   "source": [
    "another_list[0]=34"
   ]
  },
  {
   "cell_type": "code",
   "execution_count": 18,
   "id": "6350b4b9-99d0-433d-8cc7-820de01bb0b0",
   "metadata": {},
   "outputs": [
    {
     "data": {
      "text/plain": [
       "[34, 30.3]"
      ]
     },
     "execution_count": 18,
     "metadata": {},
     "output_type": "execute_result"
    }
   ],
   "source": [
    "another_list\n"
   ]
  },
  {
   "cell_type": "code",
   "execution_count": 19,
   "id": "14a916c1-af33-4b92-9c27-7456aad29d60",
   "metadata": {},
   "outputs": [],
   "source": [
    "new_list.append(\"Hello\")"
   ]
  },
  {
   "cell_type": "code",
   "execution_count": 20,
   "id": "ea1523e8-381a-4f97-bf02-930710544e32",
   "metadata": {},
   "outputs": [
    {
     "data": {
      "text/plain": [
       "['String', 1, 20.3, 2, 30.3, 'Hello']"
      ]
     },
     "execution_count": 20,
     "metadata": {},
     "output_type": "execute_result"
    }
   ],
   "source": [
    "new_list"
   ]
  },
  {
   "cell_type": "code",
   "execution_count": 21,
   "id": "e05c23b4-370e-4701-8057-663c46e139ca",
   "metadata": {},
   "outputs": [
    {
     "data": {
      "text/plain": [
       "'Hello'"
      ]
     },
     "execution_count": 21,
     "metadata": {},
     "output_type": "execute_result"
    }
   ],
   "source": [
    "new_list.pop()"
   ]
  },
  {
   "cell_type": "code",
   "execution_count": 22,
   "id": "c2534057-8260-4053-9860-9a5291763b02",
   "metadata": {},
   "outputs": [
    {
     "data": {
      "text/plain": [
       "['String', 1, 20.3, 2, 30.3]"
      ]
     },
     "execution_count": 22,
     "metadata": {},
     "output_type": "execute_result"
    }
   ],
   "source": [
    "new_list"
   ]
  },
  {
   "cell_type": "code",
   "execution_count": 23,
   "id": "3b260334-876b-4e68-9946-d2c8422b1461",
   "metadata": {},
   "outputs": [],
   "source": [
    "item=new_list.pop()"
   ]
  },
  {
   "cell_type": "code",
   "execution_count": 24,
   "id": "95504192-88e9-4c33-be77-f3793d39a6df",
   "metadata": {},
   "outputs": [
    {
     "data": {
      "text/plain": [
       "30.3"
      ]
     },
     "execution_count": 24,
     "metadata": {},
     "output_type": "execute_result"
    }
   ],
   "source": [
    "item"
   ]
  },
  {
   "cell_type": "code",
   "execution_count": 25,
   "id": "ef1398b6-4526-40dc-bc07-a34f9e3e15a5",
   "metadata": {},
   "outputs": [
    {
     "data": {
      "text/plain": [
       "['String', 1, 20.3, 2]"
      ]
     },
     "execution_count": 25,
     "metadata": {},
     "output_type": "execute_result"
    }
   ],
   "source": [
    "new_list"
   ]
  },
  {
   "cell_type": "code",
   "execution_count": 26,
   "id": "c38c6327-e3cc-4d92-82a6-b6c709bcca13",
   "metadata": {},
   "outputs": [],
   "source": [
    "lik=['a','d','c','x','m']\n",
    "num=[3,9,2,8]"
   ]
  },
  {
   "cell_type": "code",
   "execution_count": 27,
   "id": "bab2e2ad-5f83-4cfc-90f5-87ed6071fea2",
   "metadata": {},
   "outputs": [],
   "source": [
    "lik.sort()"
   ]
  },
  {
   "cell_type": "code",
   "execution_count": 28,
   "id": "353a117a-72c5-44c0-9dc4-a089a923f70e",
   "metadata": {},
   "outputs": [
    {
     "data": {
      "text/plain": [
       "['a', 'c', 'd', 'm', 'x']"
      ]
     },
     "execution_count": 28,
     "metadata": {},
     "output_type": "execute_result"
    }
   ],
   "source": [
    "lik\n"
   ]
  },
  {
   "cell_type": "code",
   "execution_count": 29,
   "id": "1932264b-53dc-40ca-ba01-1a85976260f1",
   "metadata": {},
   "outputs": [],
   "source": [
    "lik.reverse()"
   ]
  },
  {
   "cell_type": "code",
   "execution_count": 30,
   "id": "fca9eabe-1e7b-47bf-8726-081ffeb89bf3",
   "metadata": {},
   "outputs": [
    {
     "data": {
      "text/plain": [
       "['x', 'm', 'd', 'c', 'a']"
      ]
     },
     "execution_count": 30,
     "metadata": {},
     "output_type": "execute_result"
    }
   ],
   "source": [
    "lik"
   ]
  },
  {
   "cell_type": "code",
   "execution_count": 31,
   "id": "63e66dee-f5d7-44f3-bfdb-bd65cb14f258",
   "metadata": {},
   "outputs": [
    {
     "data": {
      "text/plain": [
       "[3, 9, 2, 8]"
      ]
     },
     "execution_count": 31,
     "metadata": {},
     "output_type": "execute_result"
    }
   ],
   "source": [
    "num"
   ]
  },
  {
   "cell_type": "code",
   "execution_count": 32,
   "id": "45c18112-f843-40b6-bfc7-9a655085354e",
   "metadata": {},
   "outputs": [],
   "source": [
    "num.reverse()"
   ]
  },
  {
   "cell_type": "code",
   "execution_count": 33,
   "id": "768e87e8-388c-4c08-a2f2-2434a0ef537b",
   "metadata": {},
   "outputs": [
    {
     "data": {
      "text/plain": [
       "[8, 2, 9, 3]"
      ]
     },
     "execution_count": 33,
     "metadata": {},
     "output_type": "execute_result"
    }
   ],
   "source": [
    "num\n"
   ]
  },
  {
   "cell_type": "code",
   "execution_count": 36,
   "id": "f8fead23-7a3a-4fa1-b5fe-03d4b56c6ee6",
   "metadata": {},
   "outputs": [],
   "source": [
    "new_num=num.sort()"
   ]
  },
  {
   "cell_type": "code",
   "execution_count": 35,
   "id": "9184c013-46af-4269-9a65-3f0f5047a486",
   "metadata": {},
   "outputs": [
    {
     "data": {
      "text/plain": [
       "[2, 3, 8, 9]"
      ]
     },
     "execution_count": 35,
     "metadata": {},
     "output_type": "execute_result"
    }
   ],
   "source": [
    "num"
   ]
  },
  {
   "cell_type": "code",
   "execution_count": 37,
   "id": "69572c28-6687-4485-97e6-c94244196b2c",
   "metadata": {},
   "outputs": [],
   "source": [
    "new_num"
   ]
  },
  {
   "cell_type": "code",
   "execution_count": 38,
   "id": "21e8fe6e-e0fe-424f-9e6c-fc47cdea4f5b",
   "metadata": {},
   "outputs": [],
   "source": [
    "new_num=num"
   ]
  },
  {
   "cell_type": "code",
   "execution_count": 39,
   "id": "85c8da95-e512-47f2-b8d7-49f85103ea83",
   "metadata": {},
   "outputs": [
    {
     "data": {
      "text/plain": [
       "[2, 3, 8, 9]"
      ]
     },
     "execution_count": 39,
     "metadata": {},
     "output_type": "execute_result"
    }
   ],
   "source": [
    "new_num"
   ]
  },
  {
   "cell_type": "code",
   "execution_count": null,
   "id": "490b1693-d632-4087-b1d2-d4f42ba9d5be",
   "metadata": {},
   "outputs": [],
   "source": []
  }
 ],
 "metadata": {
  "kernelspec": {
   "display_name": "Python 3 (ipykernel)",
   "language": "python",
   "name": "python3"
  },
  "language_info": {
   "codemirror_mode": {
    "name": "ipython",
    "version": 3
   },
   "file_extension": ".py",
   "mimetype": "text/x-python",
   "name": "python",
   "nbconvert_exporter": "python",
   "pygments_lexer": "ipython3",
   "version": "3.11.7"
  }
 },
 "nbformat": 4,
 "nbformat_minor": 5
}
