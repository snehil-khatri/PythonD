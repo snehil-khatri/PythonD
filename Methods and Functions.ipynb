{
 "cells": [
  {
   "cell_type": "code",
   "execution_count": 1,
   "id": "e7a23a05-f92a-4b26-b0d0-0501d6605bf9",
   "metadata": {},
   "outputs": [],
   "source": [
    "mylist=[1,2,3]"
   ]
  },
  {
   "cell_type": "code",
   "execution_count": 2,
   "id": "4c7c4bac-b53c-4f94-a785-e42a2e6c35ed",
   "metadata": {},
   "outputs": [],
   "source": [
    "mylist.insert(2,4)"
   ]
  },
  {
   "cell_type": "code",
   "execution_count": 3,
   "id": "eef9dded-d41e-4508-90f6-62ac2e874436",
   "metadata": {},
   "outputs": [
    {
     "data": {
      "text/plain": [
       "[1, 2, 4, 3]"
      ]
     },
     "execution_count": 3,
     "metadata": {},
     "output_type": "execute_result"
    }
   ],
   "source": [
    "mylist"
   ]
  },
  {
   "cell_type": "code",
   "execution_count": 4,
   "id": "cf7e354e-2bb9-4e67-aae0-2ee6e933ce97",
   "metadata": {},
   "outputs": [
    {
     "data": {
      "text/plain": [
       "3"
      ]
     },
     "execution_count": 4,
     "metadata": {},
     "output_type": "execute_result"
    }
   ],
   "source": [
    "mylist.pop()"
   ]
  },
  {
   "cell_type": "code",
   "execution_count": 5,
   "id": "d7866c54-6899-43f2-83c7-04f659080aa3",
   "metadata": {},
   "outputs": [
    {
     "data": {
      "text/plain": [
       "[1, 2, 4]"
      ]
     },
     "execution_count": 5,
     "metadata": {},
     "output_type": "execute_result"
    }
   ],
   "source": [
    "mylist"
   ]
  },
  {
   "cell_type": "code",
   "execution_count": 9,
   "id": "2ba48a70-a580-46aa-952d-2330167e0751",
   "metadata": {},
   "outputs": [],
   "source": [
    "def my_fun():\n",
    "    print(\"holaaa!!First call to functionsss yeahhh!!\")"
   ]
  },
  {
   "cell_type": "code",
   "execution_count": 10,
   "id": "f87cb0f2-cced-4bec-a22c-1ee62395244c",
   "metadata": {},
   "outputs": [
    {
     "name": "stdout",
     "output_type": "stream",
     "text": [
      "holaaa!!First call to functionsss yeahhh!!\n"
     ]
    }
   ],
   "source": [
    "my_fun()"
   ]
  },
  {
   "cell_type": "code",
   "execution_count": 11,
   "id": "ae4283a1-960c-4b3e-9e7b-92f06e6b9981",
   "metadata": {},
   "outputs": [],
   "source": [
    "def snake_casingfun(a,b):\n",
    "    return a+b;\n",
    "    "
   ]
  },
  {
   "cell_type": "code",
   "execution_count": 13,
   "id": "964a92d0-d1f2-403a-8e82-f576e9bcbf4d",
   "metadata": {},
   "outputs": [
    {
     "data": {
      "text/plain": [
       "'1020'"
      ]
     },
     "execution_count": 13,
     "metadata": {},
     "output_type": "execute_result"
    }
   ],
   "source": [
    "snake_casingfun('10','20')"
   ]
  },
  {
   "cell_type": "code",
   "execution_count": 14,
   "id": "8e61288c-d3ce-41de-96c7-d5540ff46b19",
   "metadata": {},
   "outputs": [],
   "source": [
    "def check_even(num):\n",
    "    if num%2 == 0:\n",
    "        print(f\"{num} is even\")\n",
    "    else:\n",
    "        print(f\"{num} is odd\")\n",
    "        "
   ]
  },
  {
   "cell_type": "code",
   "execution_count": 15,
   "id": "ff46361c-b8a1-467b-a1ba-3aa8fb1e9657",
   "metadata": {},
   "outputs": [
    {
     "name": "stdout",
     "output_type": "stream",
     "text": [
      "41 is odd\n"
     ]
    }
   ],
   "source": [
    "check_even(41)"
   ]
  },
  {
   "cell_type": "code",
   "execution_count": 16,
   "id": "45103ef9-b526-49e0-95d1-5bf27ae1285d",
   "metadata": {},
   "outputs": [],
   "source": [
    "def even_list(num_list):\n",
    "    for number in num_list:\n",
    "        if(number%2==0):\n",
    "            return True\n",
    "        else:\n",
    "            pass\n",
    "    return False"
   ]
  },
  {
   "cell_type": "code",
   "execution_count": 17,
   "id": "6b14c129-8de5-4346-9ae3-586422d5dc0d",
   "metadata": {},
   "outputs": [
    {
     "data": {
      "text/plain": [
       "True"
      ]
     },
     "execution_count": 17,
     "metadata": {},
     "output_type": "execute_result"
    }
   ],
   "source": [
    "even_list([1,1,2])"
   ]
  },
  {
   "cell_type": "code",
   "execution_count": 18,
   "id": "fc9b328d-b369-4d94-b936-2414e34b3a5b",
   "metadata": {},
   "outputs": [
    {
     "data": {
      "text/plain": [
       "False"
      ]
     },
     "execution_count": 18,
     "metadata": {},
     "output_type": "execute_result"
    }
   ],
   "source": [
    "even_list([1,3,5])"
   ]
  },
  {
   "cell_type": "code",
   "execution_count": 19,
   "id": "d2595aa9-c7fe-4cd4-8045-4f377991bc9e",
   "metadata": {},
   "outputs": [
    {
     "data": {
      "text/plain": [
       "True"
      ]
     },
     "execution_count": 19,
     "metadata": {},
     "output_type": "execute_result"
    }
   ],
   "source": [
    "even_list([1,9,2])"
   ]
  },
  {
   "cell_type": "code",
   "execution_count": 20,
   "id": "92d4c318-f592-44c9-a937-c13906178173",
   "metadata": {},
   "outputs": [
    {
     "data": {
      "text/plain": [
       "True"
      ]
     },
     "execution_count": 20,
     "metadata": {},
     "output_type": "execute_result"
    }
   ],
   "source": [
    "even_list([3,9,0])"
   ]
  },
  {
   "cell_type": "code",
   "execution_count": 21,
   "id": "ab5c6ecb-790c-45cb-94c4-ec2c7f1e0ad5",
   "metadata": {},
   "outputs": [
    {
     "data": {
      "text/plain": [
       "True"
      ]
     },
     "execution_count": 21,
     "metadata": {},
     "output_type": "execute_result"
    }
   ],
   "source": [
    "even_list([2,2,2])"
   ]
  },
  {
   "cell_type": "code",
   "execution_count": 22,
   "id": "d40f4a17-27a4-4701-bb80-7650a070d30c",
   "metadata": {},
   "outputs": [
    {
     "data": {
      "text/plain": [
       "True"
      ]
     },
     "execution_count": 22,
     "metadata": {},
     "output_type": "execute_result"
    }
   ],
   "source": [
    "even_list([3,4,5])"
   ]
  },
  {
   "cell_type": "code",
   "execution_count": 23,
   "id": "f1f6ad9f-1fbf-4696-95a0-a2714e43a896",
   "metadata": {},
   "outputs": [
    {
     "data": {
      "text/plain": [
       "True"
      ]
     },
     "execution_count": 23,
     "metadata": {},
     "output_type": "execute_result"
    }
   ],
   "source": [
    "even_list([8,9,7])"
   ]
  },
  {
   "cell_type": "code",
   "execution_count": 25,
   "id": "93535a14-cb09-49a2-a7c1-251846711527",
   "metadata": {},
   "outputs": [
    {
     "data": {
      "text/plain": [
       "False"
      ]
     },
     "execution_count": 25,
     "metadata": {},
     "output_type": "execute_result"
    }
   ],
   "source": [
    "even_list([1,1,1,1])"
   ]
  },
  {
   "cell_type": "code",
   "execution_count": 9,
   "id": "23c9d542-6a27-4e96-8c32-4d805fc9bb68",
   "metadata": {},
   "outputs": [],
   "source": [
    "from random import shuffle"
   ]
  },
  {
   "cell_type": "code",
   "execution_count": 2,
   "id": "fa406a3c-586e-4c94-a6f9-085f958ac377",
   "metadata": {},
   "outputs": [],
   "source": [
    "example=[1,2,3,4,5,6,7]"
   ]
  },
  {
   "cell_type": "code",
   "execution_count": 10,
   "id": "660fe618-4543-4f1d-9d9f-4ba1dac82622",
   "metadata": {},
   "outputs": [],
   "source": [
    "def shuffle_list(mylist):\n",
    "    shuffle(mylist)\n",
    "    return mylist"
   ]
  },
  {
   "cell_type": "code",
   "execution_count": 13,
   "id": "89a47919-829d-4ac2-8bd9-18452dac8c84",
   "metadata": {},
   "outputs": [],
   "source": [
    "result=shuffle_list(example)"
   ]
  },
  {
   "cell_type": "code",
   "execution_count": 14,
   "id": "e0a34279-45c5-4346-8ef7-cef547bf42cf",
   "metadata": {},
   "outputs": [
    {
     "data": {
      "text/plain": [
       "[6, 2, 4, 7, 1, 3, 5]"
      ]
     },
     "execution_count": 14,
     "metadata": {},
     "output_type": "execute_result"
    }
   ],
   "source": [
    "result\n"
   ]
  },
  {
   "cell_type": "code",
   "execution_count": null,
   "id": "ab1cdaf2-2fac-49cf-b622-b48b68835036",
   "metadata": {},
   "outputs": [],
   "source": []
  }
 ],
 "metadata": {
  "kernelspec": {
   "display_name": "Python 3 (ipykernel)",
   "language": "python",
   "name": "python3"
  },
  "language_info": {
   "codemirror_mode": {
    "name": "ipython",
    "version": 3
   },
   "file_extension": ".py",
   "mimetype": "text/x-python",
   "name": "python",
   "nbconvert_exporter": "python",
   "pygments_lexer": "ipython3",
   "version": "3.11.7"
  }
 },
 "nbformat": 4,
 "nbformat_minor": 5
}
